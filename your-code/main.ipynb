{
 "cells": [
  {
   "cell_type": "code",
   "execution_count": 2,
   "id": "a1ce4e84",
   "metadata": {},
   "outputs": [
    {
     "name": "stdout",
     "output_type": "stream",
     "text": [
      "Connected to the sakila database successfully!\n"
     ]
    }
   ],
   "source": [
    "# it is not explicit, but I assume we're supposed to be working with the sakila database. \n",
    "\n",
    "# Using SQLAlchemy\n",
    "from sqlalchemy import create_engine\n",
    "\n",
    "# Database connection settings\n",
    "host = \"localhost\"  # host\n",
    "user = \"root\"  #  MySQL username\n",
    "password = \"Malcomx1\"  #  MySQL password\n",
    "database = \"sakila\"  #  database name\n",
    "\n",
    "\n",
    "# creates a SQLAlchemy engine, which serves as the entry point for interacting with the database\n",
    "engine = create_engine(f\"mysql+mysqlconnector://{user}:{password}@{host}/{database}\")\n",
    "\n",
    "print(f\"Connected to the {database} database successfully!\")"
   ]
  },
  {
   "cell_type": "markdown",
   "id": "b4ba9fdc",
   "metadata": {},
   "source": [
    "### 1. Calculate the average rental duration (in days) for each film:"
   ]
  },
  {
   "cell_type": "code",
   "execution_count": null,
   "id": "ca70ce77",
   "metadata": {},
   "outputs": [
    {
     "name": "stdout",
     "output_type": "stream",
     "text": [
      "                 title  rental_duration  avg_rental_duration\n",
      "0     ACADEMY DINOSAUR                6                4.985\n",
      "1       ACE GOLDFINGER                3                4.985\n",
      "2     ADAPTATION HOLES                7                4.985\n",
      "3     AFFAIR PREJUDICE                5                4.985\n",
      "4          AFRICAN EGG                6                4.985\n",
      "..                 ...              ...                  ...\n",
      "995     YOUNG LANGUAGE                6                4.985\n",
      "996         YOUTH KICK                4                4.985\n",
      "997       ZHIVAGO CORE                6                4.985\n",
      "998  ZOOLANDER FICTION                5                4.985\n",
      "999          ZORRO ARK                3                4.985\n",
      "\n",
      "[1000 rows x 3 columns]\n"
     ]
    }
   ],
   "source": [
    "import pandas as pd\n",
    "from sqlalchemy import create_engine, text\n",
    "\n",
    "query = text(\"\"\"\n",
    "SELECT\n",
    "    title,\n",
    "    rental_duration,\n",
    "    AVG(rental_duration) OVER () AS avg_rental_duration\n",
    "FROM\n",
    "    film;\n",
    "\"\"\")\n",
    "\n",
    "# Use a connection from the engine\n",
    "with engine.connect() as connection:\n",
    "    df_question1 = pd.read_sql(query, connection)\n",
    "\n",
    "# Display the results\n",
    "print(df_question1)"
   ]
  },
  {
   "cell_type": "markdown",
   "id": "976e6175",
   "metadata": {},
   "source": [
    "|title|rental_duration|avg_rental_duration|\n",
    "|-----|---------------|-------------------|\n",
    "|ACADEMY DINOSAUR|6              |4.9850             |\n",
    "|ACE GOLDFINGER|3              |4.9850             |\n",
    "|ADAPTATION HOLES|7              |4.9850             |\n",
    "|AFFAIR PREJUDICE|5              |4.9850             |\n",
    "|AFRICAN EGG|6              |4.9850             |\n",
    "|AGENT TRUMAN|3              |4.9850             |\n",
    "|AIRPLANE SIERRA|6              |4.9850             |\n",
    "|AIRPORT POLLOCK|6              |4.9850             |\n",
    "|ALABAMA DEVIL|3              |4.9850             |\n",
    "|ALADDIN CALENDAR|6              |4.9850             |\n",
    "|ALAMO VIDEOTAPE|6              |4.9850             |\n",
    "|ALASKA PHANTOM|6              |4.9850             |\n",
    "|ALI FOREVER|4              |4.9850             |\n",
    "|ALICE FANTASIA|6              |4.9850             |\n"
   ]
  },
  {
   "cell_type": "markdown",
   "id": "c7f7ea37",
   "metadata": {},
   "source": [
    "###  2. Calculate the average payment amount for each staff member:"
   ]
  },
  {
   "cell_type": "code",
   "execution_count": 7,
   "id": "a7195632",
   "metadata": {},
   "outputs": [
    {
     "name": "stdout",
     "output_type": "stream",
     "text": [
      "   staff_id  avg_payment_amount\n",
      "0         1                4.16\n",
      "1         2                4.25\n"
     ]
    }
   ],
   "source": [
    "import pandas as pd\n",
    "from sqlalchemy import create_engine, text\n",
    "\n",
    "query = text(\"\"\"\n",
    "SELECT \n",
    "    staff_id, \n",
    "    ROUND(AVG(amount), 2) AS avg_payment_amount\n",
    "FROM \n",
    "    payment\n",
    "GROUP BY \n",
    "    staff_id;\n",
    "\n",
    "\"\"\")\n",
    "\n",
    "# Use a connection from the engine\n",
    "with engine.connect() as connection:\n",
    "    df_question2 = pd.read_sql(query, connection)\n",
    "\n",
    "# Display the results\n",
    "print(df_question2)\n"
   ]
  },
  {
   "cell_type": "markdown",
   "id": "fc636d47",
   "metadata": {},
   "source": [
    "#### Expected output\n",
    "\n",
    "|staff_id|avg_payment_amount|\n",
    "|--------|------------------|\n",
    "|1       |4.156568          |\n",
    "|1       |4.156568          |\n",
    "|1       |4.156568          |\n",
    "|1       |4.156568          |\n",
    "|1       |4.156568          |\n",
    "|1       |4.156568          |\n",
    "|1       |4.156568          |"
   ]
  },
  {
   "cell_type": "markdown",
   "id": "d307de0e",
   "metadata": {},
   "source": [
    "### 3. Calculate the total revenue for each customer, showing the running total within each customer's rental history:"
   ]
  },
  {
   "cell_type": "code",
   "execution_count": 9,
   "id": "6130585f",
   "metadata": {},
   "outputs": [
    {
     "name": "stdout",
     "output_type": "stream",
     "text": [
      "       customer_id  rental_id         rental_date  amount  running_total\n",
      "0                1         76 2005-05-25 11:30:37    2.99           2.99\n",
      "1                1        573 2005-05-28 10:35:23    0.99           3.98\n",
      "2                1       1185 2005-06-15 00:54:12    5.99           9.97\n",
      "3                1       1422 2005-06-15 18:02:53    0.99          10.96\n",
      "4                1       1476 2005-06-15 21:08:46    9.99          20.95\n",
      "...            ...        ...                 ...     ...            ...\n",
      "16039          599      14599 2005-08-21 17:43:42    4.99          66.85\n",
      "16040          599      14719 2005-08-21 21:41:57    1.99          68.84\n",
      "16041          599      15590 2005-08-23 06:09:44    8.99          77.83\n",
      "16042          599      15719 2005-08-23 11:08:46    2.99          80.82\n",
      "16043          599      15725 2005-08-23 11:25:00    2.99          83.81\n",
      "\n",
      "[16044 rows x 5 columns]\n"
     ]
    }
   ],
   "source": [
    "import pandas as pd\n",
    "from sqlalchemy import create_engine, text\n",
    "\n",
    "query = text(\"\"\"\n",
    "SELECT\n",
    "    payment.customer_id,\n",
    "    rental_id,\n",
    "    rental_date,\n",
    "    amount,\n",
    "    SUM(amount) OVER (PARTITION BY customer_id ORDER BY rental_date) AS running_total\n",
    "FROM\n",
    "    payment\n",
    "    JOIN rental USING (rental_id)\n",
    "ORDER BY\n",
    "    customer_id, rental_date;\n",
    "\"\"\")\n",
    "\n",
    "# Use a connection from the engine\n",
    "with engine.connect() as connection:\n",
    "    df_question3 = pd.read_sql(query, connection)\n",
    "\n",
    "# Display the results\n",
    "print(df_question3)\n"
   ]
  },
  {
   "cell_type": "markdown",
   "id": "321655d4",
   "metadata": {},
   "source": [
    "#### Expected output\n",
    "\n",
    "|customer_id|rental_id|rental_date        |amount|running_total|\n",
    "|-----------|---------|-------------------|------|-------------|\n",
    "|1          |76       |2005-05-25 11:30:37|2.99  |2.99         |\n",
    "|1          |573      |2005-05-28 10:35:23|0.99  |3.98         |\n",
    "|1          |1185     |2005-06-15 00:54:12|5.99  |9.97         |\n",
    "|1          |1422     |2005-06-15 18:02:53|0.99  |10.96        |\n",
    "|1          |1476     |2005-06-15 21:08:46|9.99  |20.95        |\n",
    "|1          |1725     |2005-06-16 15:18:57|4.99  |25.94        |\n",
    "|1          |2308     |2005-06-18 08:41:48|4.99  |30.93        |\n",
    "|1          |2363     |2005-06-18 13:33:59|0.99  |31.92        |\n",
    "|1          |3284     |2005-06-21 06:24:45|3.99  |35.91        |\n",
    "|1          |4526     |2005-07-08 03:17:05|5.99  |41.90        |"
   ]
  },
  {
   "cell_type": "markdown",
   "id": "e4eb28f2",
   "metadata": {},
   "source": [
    "### 4. Determine the quartile for the rental rates of films:"
   ]
  },
  {
   "cell_type": "code",
   "execution_count": 10,
   "id": "49564fdf",
   "metadata": {},
   "outputs": [
    {
     "name": "stdout",
     "output_type": "stream",
     "text": [
      "                    title  rental_rate  quartile\n",
      "0        ACADEMY DINOSAUR         0.99         1\n",
      "1         ALAMO VIDEOTAPE         0.99         1\n",
      "2          ALASKA PHANTOM         0.99         1\n",
      "3          ALICE FANTASIA         0.99         1\n",
      "4              ALONE TRIP         0.99         1\n",
      "..                    ...          ...       ...\n",
      "995  WONDERLAND CHRISTMAS         4.99         4\n",
      "996   WORKING MICROCOSMOS         4.99         4\n",
      "997         WYOMING STORM         4.99         4\n",
      "998           YENTL IDAHO         4.99         4\n",
      "999             ZORRO ARK         4.99         4\n",
      "\n",
      "[1000 rows x 3 columns]\n"
     ]
    }
   ],
   "source": [
    "\n",
    "import pandas as pd\n",
    "from sqlalchemy import create_engine, text\n",
    "\n",
    "query = text(\"\"\"\n",
    "SELECT\n",
    "    title,\n",
    "    rental_rate,\n",
    "    NTILE(4) OVER (ORDER BY rental_rate) AS quartile\n",
    "FROM\n",
    "    film;\n",
    "\"\"\")\n",
    "\n",
    "# Use a connection from the engine\n",
    "with engine.connect() as connection:\n",
    "    df_question4 = pd.read_sql(query, connection)\n",
    "\n",
    "# Display the results\n",
    "print(df_question4)\n"
   ]
  },
  {
   "cell_type": "markdown",
   "id": "2e644f07",
   "metadata": {},
   "source": [
    "#### Expected output\n",
    "\n",
    "|title|rental_rate|quartile           |\n",
    "|-----|-----------|-------------------|\n",
    "|ACADEMY DINOSAUR|0.99       |1                  |\n",
    "|ALAMO VIDEOTAPE|0.99       |1                  |\n",
    "|ALASKA PHANTOM|0.99       |1                  |\n",
    "|ALICE FANTASIA|0.99       |1                  |\n",
    "|ALONE TRIP|0.99       |1                  |\n",
    "|ALTER VICTORY|0.99       |1                  |\n",
    "|AMADEUS HOLY|0.99       |1                  |\n",
    "|ANACONDA CONFESSIONS|0.99       |1                  |\n",
    "|ANNIE IDENTITY|0.99       |1                  |\n",
    "|ANONYMOUS HUMAN|0.99       |1                  |\n"
   ]
  },
  {
   "cell_type": "markdown",
   "id": "dba9ef04",
   "metadata": {},
   "source": [
    "### 5. Determine the first and last rental date for each customer:"
   ]
  },
  {
   "cell_type": "code",
   "execution_count": 14,
   "id": "84bd863c",
   "metadata": {},
   "outputs": [
    {
     "name": "stdout",
     "output_type": "stream",
     "text": [
      "     customer_id   first_rental_date    last_rental_date\n",
      "0              1 2005-05-25 11:30:37 2005-08-22 20:03:46\n",
      "1              2 2005-05-27 00:09:24 2005-08-23 17:39:35\n",
      "2              3 2005-05-27 17:17:09 2005-08-23 07:10:14\n",
      "3              4 2005-06-15 09:31:28 2005-08-23 07:43:00\n",
      "4              5 2005-05-29 07:25:16 2006-02-14 15:16:03\n",
      "..           ...                 ...                 ...\n",
      "594          595 2005-05-28 15:27:22 2005-08-23 21:26:35\n",
      "595          596 2005-05-26 21:16:52 2006-02-14 15:16:03\n",
      "596          597 2005-05-25 04:19:28 2006-02-14 15:16:03\n",
      "597          598 2005-06-20 10:10:29 2005-08-23 00:44:15\n",
      "598          599 2005-05-31 01:18:56 2005-08-23 11:25:00\n",
      "\n",
      "[599 rows x 3 columns]\n"
     ]
    }
   ],
   "source": [
    "\n",
    "import pandas as pd\n",
    "from sqlalchemy import create_engine, text\n",
    "\n",
    "query = text(\"\"\"\n",
    "SELECT\n",
    "    customer_id,\n",
    "    MIN(rental_date) AS first_rental_date,\n",
    "    MAX(rental_date) AS last_rental_date\n",
    "FROM\n",
    "    rental\n",
    "GROUP BY\n",
    "    customer_id;\n",
    "    \n",
    "\"\"\")\n",
    "\n",
    "# Use a connection from the engine\n",
    "with engine.connect() as connection:\n",
    "    df_question5 = pd.read_sql(query, connection)\n",
    "\n",
    "# Display the results\n",
    "print(df_question5)\n",
    "\n",
    "\n"
   ]
  },
  {
   "cell_type": "markdown",
   "id": "d95dab7b",
   "metadata": {},
   "source": [
    "#### Expected result\n",
    "\n",
    "|customer_id|first_rental_date|last_rental_date   |\n",
    "|-----------|-----------------|-------------------|\n",
    "|1          |2005-05-25 11:30:37|2005-08-22 20:03:46|\n",
    "|1          |2005-05-25 11:30:37|2005-08-22 20:03:46|\n",
    "|1          |2005-05-25 11:30:37|2005-08-22 20:03:46|\n",
    "|1          |2005-05-25 11:30:37|2005-08-22 20:03:46|\n",
    "|1          |2005-05-25 11:30:37|2005-08-22 20:03:46|\n",
    "|1          |2005-05-25 11:30:37|2005-08-22 20:03:46|\n",
    "|1          |2005-05-25 11:30:37|2005-08-22 20:03:46|\n",
    "|1          |2005-05-25 11:30:37|2005-08-22 20:03:46|\n",
    "|1          |2005-05-25 11:30:37|2005-08-22 20:03:46|\n",
    "|1          |2005-05-25 11:30:37|2005-08-22 20:03:46|\n",
    "|1          |2005-05-25 11:30:37|2005-08-22 20:03:46|\n",
    "|1          |2005-05-25 11:30:37|2005-08-22 20:03:46|\n",
    "|1          |2005-05-25 11:30:37|2005-08-22 20:03:46|\n"
   ]
  },
  {
   "cell_type": "markdown",
   "id": "fdda139f",
   "metadata": {},
   "source": [
    "### 6. Calculate the rank of customers based on their rental counts:"
   ]
  },
  {
   "cell_type": "code",
   "execution_count": 15,
   "id": "dde6cc37",
   "metadata": {},
   "outputs": [
    {
     "name": "stdout",
     "output_type": "stream",
     "text": [
      "     customer_id  rental_count  rental_count_rank\n",
      "0            148            46                  1\n",
      "1            526            45                  2\n",
      "2            144            42                  3\n",
      "3            236            42                  3\n",
      "4             75            41                  5\n",
      "..           ...           ...                ...\n",
      "594          248            15                594\n",
      "595           61            14                596\n",
      "596          110            14                596\n",
      "597          281            14                596\n",
      "598          318            12                599\n",
      "\n",
      "[599 rows x 3 columns]\n"
     ]
    }
   ],
   "source": [
    "\n",
    "import pandas as pd\n",
    "from sqlalchemy import create_engine, text\n",
    "\n",
    "query = text(\"\"\"\n",
    "SELECT\n",
    "    customer_id,\n",
    "    rental_count,\n",
    "    RANK() OVER (ORDER BY rental_count DESC) AS rental_count_rank\n",
    "FROM (\n",
    "    SELECT\n",
    "        customer_id,\n",
    "        COUNT(rental_id) AS rental_count\n",
    "    FROM\n",
    "        rental\n",
    "    GROUP BY\n",
    "        customer_id\n",
    ") AS rental_counts;\n",
    "\"\"\")\n",
    "\n",
    "# Use a connection from the engine\n",
    "with engine.connect() as connection:\n",
    "    df_question6 = pd.read_sql(query, connection)\n",
    "\n",
    "# Display the results\n",
    "print(df_question6)\n",
    "\n",
    "\n"
   ]
  },
  {
   "cell_type": "markdown",
   "id": "29296a57",
   "metadata": {},
   "source": [
    "#### Expected output\n",
    "\n",
    "|customer_id|rental_count                 |rental_count_rank|\n",
    "|-----------|-----------------------------|-----------------|\n",
    "|148        |46                           |1                |\n",
    "|526        |45                           |2                |\n",
    "|144        |42                           |3                |\n",
    "|236        |42                           |3                |\n",
    "|75         |41                           |5                |\n",
    "|197        |40                           |6                |\n",
    "...|...|..."
   ]
  },
  {
   "cell_type": "markdown",
   "id": "ba05c1d1",
   "metadata": {},
   "source": [
    "### 7. Calculate the running total of revenue per day for the 'Family' film category:"
   ]
  },
  {
   "cell_type": "code",
   "execution_count": null,
   "id": "4c9ebbce",
   "metadata": {},
   "outputs": [
    {
     "name": "stdout",
     "output_type": "stream",
     "text": [
      "                     title         rental_date  amount  daily_revenue\n",
      "0          BLANKET BEVERLY 2005-05-24 22:53:30    2.99           2.99\n",
      "1            GRADUATE LORD 2005-05-24 23:03:39    3.99           3.99\n",
      "2           LAWLESS VISION 2005-05-24 23:31:46    4.99           4.99\n",
      "3             HANGING DEEP 2005-05-25 00:02:21    5.99           5.99\n",
      "4       MONTEREY LABYRINTH 2005-05-25 00:31:15    0.99           0.99\n",
      "...                    ...                 ...     ...            ...\n",
      "2768          PULP BEVERLY 2006-02-14 15:16:03    2.99         104.63\n",
      "2769     SLEEPLESS MONSOON 2006-02-14 15:16:03    4.99         104.63\n",
      "2770       SUMMER SCARFACE 2006-02-14 15:16:03    0.99         104.63\n",
      "2771  SWEETHEARTS SUSPECTS 2006-02-14 15:16:03    0.99         104.63\n",
      "2772          TORQUE BOUND 2006-02-14 15:16:03    5.98         104.63\n",
      "\n",
      "[2773 rows x 4 columns]\n"
     ]
    }
   ],
   "source": [
    "# The expected answer has the film name as the category. \n",
    "\n",
    "import pandas as pd\n",
    "from sqlalchemy import create_engine, text\n",
    "\n",
    "query = text(\"\"\"\n",
    "SELECT\n",
    "    film.title,\n",
    "    rental.rental_date,\n",
    "    payment.amount,\n",
    "    SUM(payment.amount) OVER (PARTITION BY rental.rental_date ORDER BY rental.rental_date) AS daily_revenue\n",
    "FROM\n",
    "    film\n",
    "JOIN\n",
    "    inventory ON film.film_id = inventory.film_id\n",
    "JOIN\n",
    "    rental ON inventory.inventory_id = rental.inventory_id\n",
    "JOIN\n",
    "    payment ON rental.rental_id = payment.rental_id\n",
    "WHERE\n",
    "    film.rating = 'G';\n",
    "\"\"\")\n",
    "\n",
    "# Use a connection from the engine\n",
    "with engine.connect() as connection:\n",
    "    df_question7 = pd.read_sql(query, connection)\n",
    "\n",
    "# Display the results\n",
    "print(df_question7)\n",
    "\n",
    "\n"
   ]
  },
  {
   "cell_type": "markdown",
   "id": "4802a08f",
   "metadata": {},
   "source": [
    "#### Expected ouput\n",
    "\n",
    "|film_category|rental_date                  |amount|daily_revenue|\n",
    "|-------------|-----------------------------|------|-------------|\n",
    "|BLANKET BEVERLY|2005-05-24 22:53:30          |2.99  |2.99         |\n",
    "|GRADUATE LORD|2005-05-24 23:03:39          |3.99  |3.99         |\n",
    "|LAWLESS VISION|2005-05-24 23:31:46          |4.99  |4.99         |\n",
    "|HANGING DEEP |2005-05-25 00:02:21          |5.99  |5.99         |\n",
    "|MONTEREY LABYRINTH|2005-05-25 00:31:15          |0.99  |0.99         |\n",
    "|SCISSORHANDS SLUMS|2005-05-25 01:48:41          |2.99  |2.99         |\n",
    "|EASY GLADIATOR|2005-05-25 03:41:50          |4.99  |4.99         |"
   ]
  },
  {
   "cell_type": "markdown",
   "id": "039b57eb",
   "metadata": {},
   "source": [
    "### 8. Assign a unique ID to each payment within each customer's payment history:"
   ]
  },
  {
   "cell_type": "code",
   "execution_count": 20,
   "id": "abcc5934",
   "metadata": {},
   "outputs": [
    {
     "name": "stdout",
     "output_type": "stream",
     "text": [
      "       customer_id payment_id  amount        payment_date  payment_sequence_id\n",
      "0                1      PID_1    2.99 2005-05-25 11:30:37                    1\n",
      "1                1      PID_2    0.99 2005-05-28 10:35:23                    2\n",
      "2                1      PID_3    5.99 2005-06-15 00:54:12                    3\n",
      "3                1      PID_4    0.99 2005-06-15 18:02:53                    4\n",
      "4                1      PID_5    9.99 2005-06-15 21:08:46                    5\n",
      "...            ...        ...     ...                 ...                  ...\n",
      "16039          599  PID_16045    4.99 2005-08-21 17:43:42                   15\n",
      "16040          599  PID_16046    1.99 2005-08-21 21:41:57                   16\n",
      "16041          599  PID_16047    8.99 2005-08-23 06:09:44                   17\n",
      "16042          599  PID_16048    2.99 2005-08-23 11:08:46                   18\n",
      "16043          599  PID_16049    2.99 2005-08-23 11:25:00                   19\n",
      "\n",
      "[16044 rows x 5 columns]\n"
     ]
    }
   ],
   "source": [
    "# The expected answer has the film name as the category. \n",
    "\n",
    "import pandas as pd\n",
    "from sqlalchemy import create_engine, text\n",
    "\n",
    "query = text(\"\"\"\n",
    "SELECT\n",
    "    customer.customer_id,\n",
    "    CONCAT('PID_', payment.payment_id) AS payment_id,\n",
    "    payment.amount,\n",
    "    payment.payment_date,\n",
    "    ROW_NUMBER() OVER (PARTITION BY customer.customer_id ORDER BY payment.payment_date) AS payment_sequence_id\n",
    "FROM\n",
    "    customer\n",
    "JOIN\n",
    "    rental ON customer.customer_id = rental.customer_id\n",
    "JOIN\n",
    "    payment ON rental.rental_id = payment.rental_id\n",
    "ORDER BY\n",
    "    customer.customer_id, payment.payment_date;\n",
    "\"\"\")\n",
    "\n",
    "# Use a connection from the engine\n",
    "with engine.connect() as connection:\n",
    "    df_question8 = pd.read_sql(query, connection)\n",
    "\n",
    "# Display the results\n",
    "print(df_question8)\n",
    "\n",
    "\n"
   ]
  },
  {
   "cell_type": "markdown",
   "id": "88d9603a",
   "metadata": {},
   "source": [
    "|customer_id|payment_id|payment_sequence_id|\n",
    "|-----------|----------|-------------------|\n",
    "|1          |1         |1                  |\n",
    "|1          |2         |2                  |\n",
    "|1          |3         |3                  |\n",
    "|1          |4         |4                  |\n",
    "|1          |5         |5                  |\n",
    "|1          |6         |6                  |\n",
    "|1          |7         |7                  |\n",
    "|1          |8         |8                  |\n",
    "|1          |9         |9                  |\n",
    "|1          |10        |10                 |\n",
    "|1          |11        |11                 |\n",
    "|1          |12        |12                 |\n",
    "|1          |13        |13                 |\n",
    "|1          |14        |14                 |\n",
    "|1          |15        |15                 |\n",
    "|1          |16        |16                 |\n",
    "|1          |17        |17                 |\n",
    "|1          |18        |18                 |\n",
    "|1          |19        |19                 |\n",
    "|1          |20        |20                 |\n",
    "|1          |21        |21                 |\n",
    "|1          |22        |22                 |\n",
    "|1          |23        |23                 |\n",
    "|1          |24        |24                 |\n",
    "|1          |25        |25                 |\n",
    "|1          |26        |26                 |\n",
    "|1          |27        |27                 |\n",
    "|1          |28        |28                 |\n",
    "|1          |29        |29                 |\n",
    "|1          |30        |30                 |\n",
    "|1          |31        |31                 |\n",
    "|1          |32        |32                 |\n",
    "|2          |33        |1                  |\n",
    "|2          |34        |2                  |\n",
    "|2          |35        |3                  |\n",
    "|2          |36        |4                  |\n",
    "|2          |37        |5                  |\n",
    "|2          |38        |6                  |\n",
    "|2          |39        |7                  |\n",
    "|2          |40        |8                  |\n",
    "|2          |41        |9                  |\n",
    "|2          |42        |10                 |\n",
    "|2          |43        |11                 |\n",
    "|2          |44        |12                 |\n"
   ]
  },
  {
   "cell_type": "markdown",
   "id": "2585681e",
   "metadata": {},
   "source": [
    "### 9. Calculate the difference in days between each rental and the previous rental for each customer:"
   ]
  },
  {
   "cell_type": "code",
   "execution_count": 21,
   "id": "b1628e16",
   "metadata": {},
   "outputs": [
    {
     "name": "stdout",
     "output_type": "stream",
     "text": [
      "       customer_id  rental_id         rental_date  days_since_last_rental\n",
      "0                1         76 2005-05-25 11:30:37                       0\n",
      "1                1        573 2005-05-28 10:35:23                       3\n",
      "2                1       1185 2005-06-15 00:54:12                      18\n",
      "3                1       1422 2005-06-15 18:02:53                       0\n",
      "4                1       1476 2005-06-15 21:08:46                       0\n",
      "...            ...        ...                 ...                     ...\n",
      "16039          599      14599 2005-08-21 17:43:42                       0\n",
      "16040          599      14719 2005-08-21 21:41:57                       0\n",
      "16041          599      15590 2005-08-23 06:09:44                       2\n",
      "16042          599      15719 2005-08-23 11:08:46                       0\n",
      "16043          599      15725 2005-08-23 11:25:00                       0\n",
      "\n",
      "[16044 rows x 4 columns]\n"
     ]
    }
   ],
   "source": [
    "# The expected answer has the film name as the category. \n",
    "\n",
    "import pandas as pd\n",
    "from sqlalchemy import create_engine, text\n",
    "\n",
    "query = text(\"\"\"\n",
    "SELECT\n",
    "    customer.customer_id,\n",
    "    rental.rental_id,\n",
    "    rental.rental_date,\n",
    "    COALESCE(DATEDIFF(rental.rental_date, LAG(rental.rental_date) OVER (\n",
    "        PARTITION BY customer.customer_id \n",
    "        ORDER BY rental.rental_date\n",
    "    )), 0) AS days_since_last_rental\n",
    "FROM\n",
    "    customer\n",
    "JOIN\n",
    "    rental ON customer.customer_id = rental.customer_id\n",
    "ORDER BY\n",
    "    customer.customer_id, rental.rental_date;\n",
    "\n",
    "\"\"\")\n",
    "\n",
    "# Use a connection from the engine\n",
    "with engine.connect() as connection:\n",
    "    df_question9 = pd.read_sql(query, connection)\n",
    "\n",
    "# Display the results\n",
    "print(df_question9)\n",
    "\n",
    "\n"
   ]
  },
  {
   "cell_type": "markdown",
   "id": "cdb997aa",
   "metadata": {},
   "source": [
    "#### Expected output\n",
    "\n",
    "\n",
    "|customer_id|rental_id|rental_date        |previous_rental_date|days_between_rentals|\n",
    "|-----------|---------|-------------------|--------------------|--------------------|\n",
    "|1          |76       |2005-05-25 11:30:37|NULL                |NULL                |\n",
    "|1          |573      |2005-05-28 10:35:23|2005-05-25 11:30:37 |3                   |\n",
    "|1          |1185     |2005-06-15 00:54:12|2005-05-28 10:35:23 |18                  |\n",
    "|1          |1422     |2005-06-15 18:02:53|2005-06-15 00:54:12 |0                   |\n",
    "|1          |1476     |2005-06-15 21:08:46|2005-06-15 18:02:53 |0                   |\n",
    "|1          |1725     |2005-06-16 15:18:57|2005-06-15 21:08:46 |1                   |\n",
    "|1          |2308     |2005-06-18 08:41:48|2005-06-16 15:18:57 |2                   |\n",
    "|1          |2363     |2005-06-18 13:33:59|2005-06-18 08:41:48 |0                   |\n",
    "|1          |3284     |2005-06-21 06:24:45|2005-06-18 13:33:59 |3                   |\n",
    "|1          |4526     |2005-07-08 03:17:05|2005-06-21 06:24:45 |17                  |\n",
    "|1          |4611     |2005-07-08 07:33:56|2005-07-08 03:17:05 |0                   |\n",
    "\n"
   ]
  }
 ],
 "metadata": {
  "kernelspec": {
   "display_name": "Python 3",
   "language": "python",
   "name": "python3"
  },
  "language_info": {
   "codemirror_mode": {
    "name": "ipython",
    "version": 3
   },
   "file_extension": ".py",
   "mimetype": "text/x-python",
   "name": "python",
   "nbconvert_exporter": "python",
   "pygments_lexer": "ipython3",
   "version": "3.10.10"
  },
  "nbTranslate": {
   "displayLangs": [
    "en",
    "es"
   ],
   "hotkey": "alt-a",
   "langInMainMenu": true,
   "sourceLang": "es",
   "targetLang": "en",
   "useGoogleTranslate": true
  }
 },
 "nbformat": 4,
 "nbformat_minor": 5
}
